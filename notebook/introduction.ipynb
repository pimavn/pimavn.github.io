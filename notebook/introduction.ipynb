{
  "nbformat": 4,
  "nbformat_minor": 0,
  "metadata": {
    "file_extension": ".py",
    "kernelspec": {
      "display_name": "Python 3",
      "language": "python",
      "name": "python3"
    },
    "language_info": {
      "codemirror_mode": {
        "name": "ipython",
        "version": 3
      },
      "file_extension": ".py",
      "mimetype": "text/x-python",
      "name": "python",
      "nbconvert_exporter": "python",
      "pygments_lexer": "ipython3",
      "version": "3.6.8"
    },
    "mimetype": "text/x-python",
    "name": "python",
    "npconvert_exporter": "python",
    "pygments_lexer": "ipython3",
    "version": 3,
    "colab": {
      "name": "Python - Introduction.ipynb",
      "provenance": [],
      "collapsed_sections": [
        "PiArdlydgKCL",
        "7fs0gDmfgKBG",
        "Fzn2pU9QgKB2",
        "F5b8GPvmgKCH"
      ]
    }
  },
  "cells": [
    {
      "cell_type": "markdown",
      "metadata": {
        "id": "pcaCWZObgKAL"
      },
      "source": [
        "# Giới thiệu ngôn ngữ Python\n",
        "- Python là ngôn ngữ lập trình bậc cao, ra mắt lần đầu vào năm 1991\n",
        "- Python là ngôn ngữ lập trình đơn giản, cú pháp (syntax) đơn giản,\n",
        "dễ đọc, rất gần với ngôn ngữ tự nhiên\n",
        "- Hỗ trợ lập trình hướng cấu trúc, lập trình hướng cấu trúc và lập\n",
        "trình hàm (yếu)"
      ]
    },
    {
      "cell_type": "markdown",
      "metadata": {
        "id": "yzr4ldvHgKAN"
      },
      "source": [
        "Đầu tiên, hãy đảm bảo rằng chúng ta sử dụng phiên bản Python 3. Không nên sử dụng Python 2 vì nó đã bị khai tử."
      ]
    },
    {
      "cell_type": "markdown",
      "metadata": {
        "id": "TaNuqPvDgKAX"
      },
      "source": [
        "## Các kiểu dữ liệu cơ bản"
      ]
    },
    {
      "cell_type": "markdown",
      "metadata": {
        "id": "REbOFHI1gKAX"
      },
      "source": [
        "Python có nhiều kiểu dữ liệu khác nhau. Dưới đây là một số kiểu có sẵn trong Python. Khi các bạn làm việc với các thư viện khác, ta sẽ còn gặp thêm nhiều kiểu dữ liệu nữa."
      ]
    },
    {
      "cell_type": "markdown",
      "metadata": {
        "id": "dBBo3kmegKAY"
      },
      "source": [
        "### Số nguyên"
      ]
    },
    {
      "cell_type": "code",
      "metadata": {
        "id": "YFQ91f3kgKAY",
        "colab": {
          "base_uri": "https://localhost:8080/"
        },
        "outputId": "04960a49-e9c1-42f6-c705-f194599a3166"
      },
      "source": [
        "x = 20\n",
        "print(type(x))"
      ],
      "execution_count": 1,
      "outputs": [
        {
          "output_type": "stream",
          "text": [
            "<class 'int'>\n"
          ],
          "name": "stdout"
        }
      ]
    },
    {
      "cell_type": "markdown",
      "metadata": {
        "id": "9YYvGxKgDGiR"
      },
      "source": [
        "#### Thao tác với số nguyên\n",
        "Các thao tác toán học như cộng, trừ, nhân, chia, chia lấy phần nguyên, chia lấy phần dư, tính lũy thừa đều được hỗ trợ trong python."
      ]
    },
    {
      "cell_type": "code",
      "metadata": {
        "colab": {
          "base_uri": "https://localhost:8080/"
        },
        "id": "l3SaYKbwDKq3",
        "outputId": "dce44635-5c93-4e8c-d8e8-9f4cbd4b2a3f"
      },
      "source": [
        "x = 3\n",
        "y = 5\n",
        "\n",
        "print(x + y)\n",
        "print(x - y)\n",
        "print(x * y)\n",
        "print(x / y)\n",
        "print(x // y)\n",
        "print(x % y) \n",
        "print(x ** y)"
      ],
      "execution_count": 2,
      "outputs": [
        {
          "output_type": "stream",
          "text": [
            "8\n",
            "-2\n",
            "15\n",
            "0.6\n",
            "0\n",
            "3\n",
            "243\n"
          ],
          "name": "stdout"
        }
      ]
    },
    {
      "cell_type": "markdown",
      "metadata": {
        "id": "-k3VpKXbgKAa"
      },
      "source": [
        "### Số thực\n"
      ]
    },
    {
      "cell_type": "code",
      "metadata": {
        "id": "6tnNv8j_gKAb",
        "colab": {
          "base_uri": "https://localhost:8080/"
        },
        "outputId": "7f24a91f-f1db-4f61-e7c6-6e68e5aa1ee6"
      },
      "source": [
        "x = 17.0\n",
        "print(type(x))"
      ],
      "execution_count": 3,
      "outputs": [
        {
          "output_type": "stream",
          "text": [
            "<class 'float'>\n"
          ],
          "name": "stdout"
        }
      ]
    },
    {
      "cell_type": "markdown",
      "metadata": {
        "id": "__wriAbYEmAt"
      },
      "source": [
        "#### Thao tác với số thực\n",
        "Cũng giống như số nguyên. Các thao tác toán học như cộng, trừ, nhân, chia, chia lấy phần nguyên, chia lấy phần dư, tính lũy thừa đều được hỗ trợ trong python."
      ]
    },
    {
      "cell_type": "code",
      "metadata": {
        "colab": {
          "base_uri": "https://localhost:8080/"
        },
        "id": "-yCRUWRLErDL",
        "outputId": "cf8c4853-d292-4597-99df-d3d6c00c24ec"
      },
      "source": [
        "# Floats\n",
        "x = 4.0\n",
        "y = 2.5\n",
        "\n",
        "print(x + y)\n",
        "print(x - y)\n",
        "print(x * y)\n",
        "print(x / y)\n",
        "print(x // y)\n",
        "print(x % y) \n",
        "print(x ** y)"
      ],
      "execution_count": 4,
      "outputs": [
        {
          "output_type": "stream",
          "text": [
            "6.5\n",
            "1.5\n",
            "10.0\n",
            "1.6\n",
            "1.0\n",
            "1.5\n",
            "32.0\n"
          ],
          "name": "stdout"
        }
      ]
    },
    {
      "cell_type": "markdown",
      "metadata": {
        "id": "k04Z07odgKAj"
      },
      "source": [
        "### Logic\n",
        "Python có hỗ trợ kiểu dữ liệu logic (True, False) và các phép tính logic:"
      ]
    },
    {
      "cell_type": "code",
      "metadata": {
        "id": "W1UC5QFqgKAj",
        "colab": {
          "base_uri": "https://localhost:8080/"
        },
        "outputId": "f2ccdf64-fe7e-4a33-e989-a292a30d11ec"
      },
      "source": [
        "x = True\n",
        "y = False\n",
        "print(type(x))\n",
        "print(x and y) # x and y\n",
        "print(x or y) # x or y\n",
        "print(not x)"
      ],
      "execution_count": 5,
      "outputs": [
        {
          "output_type": "stream",
          "text": [
            "<class 'bool'>\n",
            "False\n",
            "True\n",
            "False\n"
          ],
          "name": "stdout"
        }
      ]
    },
    {
      "cell_type": "markdown",
      "metadata": {
        "id": "ByS2aTYNgKAl"
      },
      "source": [
        "### Chuỗi\n",
        "Chuỗi là cấu trúc lưu dữ liệu dạng văn bản (như tin nhắn chẳng hạn). Một chuỗi có thể được gói giữa hai ký tự nháy kép (`\"string\"`) hoặc nháy đơn (`'string'`). "
      ]
    },
    {
      "cell_type": "code",
      "metadata": {
        "id": "0cva0ZA5gKAm",
        "colab": {
          "base_uri": "https://localhost:8080/"
        },
        "outputId": "b3ed3a1a-2f39-4215-f9cb-263fcf63e80c"
      },
      "source": [
        "x = \"PiMA 2021\"\n",
        "print(type(x))\n",
        "print(x)\n",
        "y = 'PiMA 2021'\n",
        "print(type(y))\n",
        "print(y)"
      ],
      "execution_count": 6,
      "outputs": [
        {
          "output_type": "stream",
          "text": [
            "<class 'str'>\n",
            "PiMA 2021\n",
            "<class 'str'>\n",
            "PiMA 2021\n"
          ],
          "name": "stdout"
        }
      ]
    },
    {
      "cell_type": "markdown",
      "metadata": {
        "id": "rq8PlXEfG7II"
      },
      "source": [
        "#### Thao tác với chuỗi\n",
        "Ta có thể nối chuỗi bằng phép cộng, hoặc nhân bản chuỗi bằng phép nhân."
      ]
    },
    {
      "cell_type": "code",
      "metadata": {
        "colab": {
          "base_uri": "https://localhost:8080/"
        },
        "id": "Db-Eatr9Hkbw",
        "outputId": "db6f0b9f-71c9-4d51-dafa-632c7a55714b"
      },
      "source": [
        "x = \"PiMA\"\n",
        "y = \"2021\"\n",
        "print(x + y)\n",
        "print(x + \" \" + y)\n",
        "print(x * 3)"
      ],
      "execution_count": 7,
      "outputs": [
        {
          "output_type": "stream",
          "text": [
            "PiMA2021\n",
            "PiMA 2021\n",
            "PiMAPiMAPiMA\n"
          ],
          "name": "stdout"
        }
      ]
    },
    {
      "cell_type": "markdown",
      "metadata": {
        "id": "JnmCueOa9oez"
      },
      "source": [
        "Lấy độ dài chuỗi: `len()`"
      ]
    },
    {
      "cell_type": "code",
      "metadata": {
        "colab": {
          "base_uri": "https://localhost:8080/"
        },
        "id": "pHdXXeP29n-P",
        "outputId": "569808f8-cc0a-4cc4-e32a-235ba78d8fb1"
      },
      "source": [
        "x = \"PiMA\"\n",
        "print(len(x))"
      ],
      "execution_count": 8,
      "outputs": [
        {
          "output_type": "stream",
          "text": [
            "4\n"
          ],
          "name": "stdout"
        }
      ]
    },
    {
      "cell_type": "markdown",
      "metadata": {
        "id": "QhQPPm-2gKA2"
      },
      "source": [
        "### Ép kiểu"
      ]
    },
    {
      "cell_type": "markdown",
      "metadata": {
        "id": "BkZ40dJOgKA3"
      },
      "source": [
        "Để \"ép\" một biến `var` từ kiểu `type1` sang một kiểu dữ liệu khác `type2` có thể làm cú pháp như sau: `type2(var)`"
      ]
    },
    {
      "cell_type": "code",
      "metadata": {
        "id": "mJWCZVWYgKA3",
        "colab": {
          "base_uri": "https://localhost:8080/"
        },
        "outputId": "ac22cf23-e391-4a94-fe2e-15d5d1e0a760"
      },
      "source": [
        "y = int(17.3)\n",
        "print(y, type(y))\n",
        "\n",
        "y = int(-17.3)\n",
        "print(y, type(y))\n",
        "\n",
        "y = float(3)\n",
        "print(y, type(y))"
      ],
      "execution_count": 9,
      "outputs": [
        {
          "output_type": "stream",
          "text": [
            "17 <class 'int'>\n",
            "-17 <class 'int'>\n",
            "3.0 <class 'float'>\n"
          ],
          "name": "stdout"
        }
      ]
    },
    {
      "cell_type": "markdown",
      "metadata": {
        "id": "rkV854nHI9LB"
      },
      "source": [
        "## Câu lệnh rẻ nhánh (if)\n",
        "Câu lệnh `if` dùng để kiểu khiển chương trình dựa trên một điều kiện cho trước. Ví dụ:"
      ]
    },
    {
      "cell_type": "code",
      "metadata": {
        "colab": {
          "base_uri": "https://localhost:8080/"
        },
        "id": "BWZjZ5uAJaIs",
        "outputId": "a208ccdc-24a0-4b7f-fd7b-58db34d1355d"
      },
      "source": [
        "x = 2\n",
        "y = 3\n",
        "if x < y:\n",
        "    print(\"x nho hon y\")"
      ],
      "execution_count": 10,
      "outputs": [
        {
          "output_type": "stream",
          "text": [
            "x nho hon y\n"
          ],
          "name": "stdout"
        }
      ]
    },
    {
      "cell_type": "markdown",
      "metadata": {
        "id": "jUBzsR8zKJIA"
      },
      "source": [
        "Ngoài phép so sánh `<`, ta còn có một số phép thông dụng sau:\n",
        "- `x > y`: x lớn hơn y\n",
        "- `x == y`: x bằng y (lưu ý là `==` thay vì `=`) \n",
        "- `x >= y`: x lớn hơn hoặc bằng y\n",
        "- `x <= y`: x nhỏ hơn hoặc bằng y\n",
        "- `x != y`: x khác y\n"
      ]
    },
    {
      "cell_type": "markdown",
      "metadata": {
        "id": "QASWWpm5KnXN"
      },
      "source": [
        "Do python sử dụng thụt lề để phân tách các khối lệnh, nên sau if ta phải thụt lề vào trong:"
      ]
    },
    {
      "cell_type": "code",
      "metadata": {
        "colab": {
          "base_uri": "https://localhost:8080/",
          "height": 128
        },
        "id": "MwD_y71NKmxx",
        "outputId": "d5b56f75-f7a5-46fc-eaac-2a9e7550d6ba"
      },
      "source": [
        "x = 2\n",
        "y = 3\n",
        "# lỗi \n",
        "if x < y:\n",
        "print(\"x nho hon y\")"
      ],
      "execution_count": 12,
      "outputs": [
        {
          "output_type": "error",
          "ename": "IndentationError",
          "evalue": "ignored",
          "traceback": [
            "\u001b[0;36m  File \u001b[0;32m\"<ipython-input-12-1de1f4307c19>\"\u001b[0;36m, line \u001b[0;32m5\u001b[0m\n\u001b[0;31m    print(\"x nho hon y\")\u001b[0m\n\u001b[0m        ^\u001b[0m\n\u001b[0;31mIndentationError\u001b[0m\u001b[0;31m:\u001b[0m expected an indented block\n"
          ]
        }
      ]
    },
    {
      "cell_type": "markdown",
      "metadata": {
        "id": "dBm0WjJSLNBn"
      },
      "source": [
        "Đôi khi ta muốn xử lý trường hợp ngoại lệ (khi mà điều kiện if không đúng), ta có thể dùng thêm `else`:"
      ]
    },
    {
      "cell_type": "code",
      "metadata": {
        "id": "63GdBC83LMlC",
        "colab": {
          "base_uri": "https://localhost:8080/"
        },
        "outputId": "e8db323f-19fe-4222-a121-f1035a015550"
      },
      "source": [
        "x = 5\n",
        "y = 3\n",
        "if x < y:\n",
        "    print(\"x nho hon y\")\n",
        "else:\n",
        "    print(\"x khong nho hon y\")"
      ],
      "execution_count": 13,
      "outputs": [
        {
          "output_type": "stream",
          "text": [
            "x khong nho hon y\n"
          ],
          "name": "stdout"
        }
      ]
    },
    {
      "cell_type": "markdown",
      "metadata": {
        "id": "k_HhbSnmLj8z"
      },
      "source": [
        "Ta có thể tiếp tục if sau else:\n"
      ]
    },
    {
      "cell_type": "code",
      "metadata": {
        "colab": {
          "base_uri": "https://localhost:8080/"
        },
        "id": "i8zKuCqbLnSI",
        "outputId": "fd4e0e0a-5817-4315-c8db-affa775a2371"
      },
      "source": [
        "x = 5\n",
        "y = 3\n",
        "if x < y:\n",
        "    print(\"x nho hon y\")\n",
        "else:\n",
        "    if x > y:\n",
        "        print(\"x lon hon y\")\n",
        "    else:\n",
        "        print(\"x bang y\")"
      ],
      "execution_count": 14,
      "outputs": [
        {
          "output_type": "stream",
          "text": [
            "x lon hon y\n"
          ],
          "name": "stdout"
        }
      ]
    },
    {
      "cell_type": "code",
      "metadata": {
        "colab": {
          "base_uri": "https://localhost:8080/"
        },
        "id": "Aixy-9MaLipy",
        "outputId": "f0534967-0cfa-4709-f810-29e6c6f0c7da"
      },
      "source": [
        "# rút ngắn bằng elif\n",
        "x = 3\n",
        "y = 3\n",
        "if x < y:\n",
        "    print(\"x nho hon y\")\n",
        "elif x > y:\n",
        "    print(\"x lon hon y\")\n",
        "else:\n",
        "    print(\"x bang y\")"
      ],
      "execution_count": 15,
      "outputs": [
        {
          "output_type": "stream",
          "text": [
            "x bang y\n"
          ],
          "name": "stdout"
        }
      ]
    },
    {
      "cell_type": "markdown",
      "metadata": {
        "id": "q2g8Myu3OIw5"
      },
      "source": [
        "Ta cũng có thể kết hợp nhiều điều kiện bằng các phép logic như `and`, `or`, `not`."
      ]
    },
    {
      "cell_type": "code",
      "metadata": {
        "colab": {
          "base_uri": "https://localhost:8080/"
        },
        "id": "Oaan8CAbNzG8",
        "outputId": "f5cae6d6-77a2-4538-beb2-f7b1208039c7"
      },
      "source": [
        "x = 3\n",
        "y = 4\n",
        "z = 5\n",
        "if x < y and x < z:\n",
        "    print(\"x nho hon y va z\")\n",
        "\n",
        "if not x > y:\n",
        "    print(\"x khong lon hon y\")"
      ],
      "execution_count": 16,
      "outputs": [
        {
          "output_type": "stream",
          "text": [
            "x nho hon y va z\n",
            "x khong lon hon y\n"
          ],
          "name": "stdout"
        }
      ]
    },
    {
      "cell_type": "markdown",
      "metadata": {
        "id": "0VBjfUo5gKBr"
      },
      "source": [
        "## Vòng lặp\n",
        "\n",
        "### `for`\n",
        "Câu lệnh lặp `for` cơ bản có cú pháp:\n",
        "\n",
        "`for <tên biến> in range(begin, end, step)`.\n",
        "\n",
        "Với `range(begin, end, step)` sẽ bắt đầu tại vị trí `begin`, kết thúc **trước** vị trí `end`, với bước nhảy là `step`."
      ]
    },
    {
      "cell_type": "code",
      "metadata": {
        "id": "z-JfR1XLgKBs",
        "colab": {
          "base_uri": "https://localhost:8080/"
        },
        "outputId": "431e1e11-c443-4032-fc75-4fb28f4ae92b"
      },
      "source": [
        "# In các số từ 5 tới 9\n",
        "for i in range(5, 10, 1):\n",
        "    print(i)\n",
        "print()\n",
        "# step mặc định là 1\n",
        "for i in range(5, 10):\n",
        "    print(i)"
      ],
      "execution_count": 17,
      "outputs": [
        {
          "output_type": "stream",
          "text": [
            "5\n",
            "6\n",
            "7\n",
            "8\n",
            "9\n",
            "\n",
            "5\n",
            "6\n",
            "7\n",
            "8\n",
            "9\n"
          ],
          "name": "stdout"
        }
      ]
    },
    {
      "cell_type": "code",
      "metadata": {
        "colab": {
          "base_uri": "https://localhost:8080/"
        },
        "id": "_wBKw0FZNC2d",
        "outputId": "3912981b-e45b-4ab0-bd59-da7beedc3279"
      },
      "source": [
        "# In các số chẵn nhỏ hơn 10\n",
        "for i in range(0, 10, 2):\n",
        "    print(i)"
      ],
      "execution_count": 18,
      "outputs": [
        {
          "output_type": "stream",
          "text": [
            "0\n",
            "2\n",
            "4\n",
            "6\n",
            "8\n"
          ],
          "name": "stdout"
        }
      ]
    },
    {
      "cell_type": "markdown",
      "metadata": {
        "id": "x5FGXWLuNXqY"
      },
      "source": [
        "Ta cũng có thể kết hợp với lệnh `if`:"
      ]
    },
    {
      "cell_type": "code",
      "metadata": {
        "colab": {
          "base_uri": "https://localhost:8080/"
        },
        "id": "2xgHg__KNWXu",
        "outputId": "47eeeb1e-28f3-4aa1-90ee-418f3803a290"
      },
      "source": [
        "# In các số chẵn nhỏ hơn 10\n",
        "for i in range(0, 10):\n",
        "    if i % 2 == 0:\n",
        "        print(i)\n",
        "print()\n",
        "# begin mặc định là 0\n",
        "for i in range(10):\n",
        "    if i % 2 == 0:\n",
        "        print(i)"
      ],
      "execution_count": 19,
      "outputs": [
        {
          "output_type": "stream",
          "text": [
            "0\n",
            "2\n",
            "4\n",
            "6\n",
            "8\n",
            "\n",
            "0\n",
            "2\n",
            "4\n",
            "6\n",
            "8\n"
          ],
          "name": "stdout"
        }
      ]
    },
    {
      "cell_type": "markdown",
      "metadata": {
        "id": "lbGYRPy5gKBy"
      },
      "source": [
        "### `while`\n",
        "Câu lệnh `while` có cú pháp `while <conditions>: <statements>`. Trong đó `conditions` có thể là một hoặc nhiều điều kiện ghép nhau bằng `and`, `or`, `not`. Ví dụ sau liệt kê các số chính phương nhỏ hơn 10."
      ]
    },
    {
      "cell_type": "code",
      "metadata": {
        "id": "MdXqYAlOgKBy",
        "colab": {
          "base_uri": "https://localhost:8080/"
        },
        "outputId": "521bace1-2a51-42a0-ce81-1da9e50f3913"
      },
      "source": [
        "i = 1\n",
        "while (i**2 < 10):\n",
        "    print(i**2)\n",
        "    i += 1"
      ],
      "execution_count": 20,
      "outputs": [
        {
          "output_type": "stream",
          "text": [
            "1\n",
            "4\n",
            "9\n"
          ],
          "name": "stdout"
        }
      ]
    },
    {
      "cell_type": "markdown",
      "metadata": {
        "id": "9iEQjOAOIvrZ"
      },
      "source": [
        "## Các kiểu dữ liệu container (có thể chứa các dữ liệu khác)"
      ]
    },
    {
      "cell_type": "markdown",
      "metadata": {
        "id": "3jLF5AhbgKA0"
      },
      "source": [
        "### Tuple\n",
        "Trong Python, khi nhóm các giá trị lại với nhau thành cụm sẽ gọi là `tuple`. Ví dụ như mỗi điểm trong không gian Oxyz được biểu diễn bằng ba giá trị $(x; y; z)$ có thể được biểu diễn dạng tuple."
      ]
    },
    {
      "cell_type": "code",
      "metadata": {
        "id": "JSnvUohrgKA0",
        "colab": {
          "base_uri": "https://localhost:8080/"
        },
        "outputId": "8f54ce41-fb58-47ac-af84-9061a595cf55"
      },
      "source": [
        "point = (1, 2, 3)\n",
        "print(type(point))\n",
        "print(point)"
      ],
      "execution_count": 21,
      "outputs": [
        {
          "output_type": "stream",
          "text": [
            "<class 'tuple'>\n",
            "(1, 2, 3)\n"
          ],
          "name": "stdout"
        }
      ]
    },
    {
      "cell_type": "markdown",
      "metadata": {
        "id": "zoD53QBqtCrz"
      },
      "source": [
        "##### Thao tác trên tuple\n",
        "- Lấy độ dài tuple `len()`"
      ]
    },
    {
      "cell_type": "code",
      "metadata": {
        "colab": {
          "base_uri": "https://localhost:8080/"
        },
        "id": "ZtDbm_Dz94cW",
        "outputId": "f7ac3899-aff0-4ed5-fb54-546d37e64375"
      },
      "source": [
        "point = (1, 2, 3)\n",
        "print(len(point))"
      ],
      "execution_count": 22,
      "outputs": [
        {
          "output_type": "stream",
          "text": [
            "3\n"
          ],
          "name": "stdout"
        }
      ]
    },
    {
      "cell_type": "markdown",
      "metadata": {
        "id": "DMp7tBR89ziT"
      },
      "source": [
        "- Lấy giá trị của tuple"
      ]
    },
    {
      "cell_type": "code",
      "metadata": {
        "colab": {
          "base_uri": "https://localhost:8080/"
        },
        "id": "potDqD1htKFl",
        "outputId": "3115ba0b-25ca-4c22-c7c3-a82d651f15b4"
      },
      "source": [
        "point = (1, 2, 3)\n",
        "x, y, z = point # Lấy ra giá trị từ tuple\n",
        "print(x, y, z)"
      ],
      "execution_count": 23,
      "outputs": [
        {
          "output_type": "stream",
          "text": [
            "1 2 3\n"
          ],
          "name": "stdout"
        }
      ]
    },
    {
      "cell_type": "markdown",
      "metadata": {
        "id": "sG480Ui3tXbO"
      },
      "source": [
        "- Truy cập phần tử\n",
        "\n",
        "Các phần tử trong tuple có thể được gọi dựa vào chỉ số (index) hay còn gọi là thứ tự của nó trong tuple. Trong một tuple, phần tử đầu tiên có chỉ số là 0."
      ]
    },
    {
      "cell_type": "code",
      "metadata": {
        "colab": {
          "base_uri": "https://localhost:8080/"
        },
        "id": "OTx4yq02tcwx",
        "outputId": "daedd0e8-2f88-4b79-bb4a-3580242b647d"
      },
      "source": [
        "point = (1, 2, 3)\n",
        "print(point[0])\n",
        "print(point[2])"
      ],
      "execution_count": 24,
      "outputs": [
        {
          "output_type": "stream",
          "text": [
            "1\n",
            "3\n"
          ],
          "name": "stdout"
        }
      ]
    },
    {
      "cell_type": "markdown",
      "metadata": {
        "id": "MmunLRXmtkrW"
      },
      "source": [
        "Một tuple còn có thể được truy cập thông qua một chỉ số âm. Đối với chỉ số âm, phần tử cuối cùng trong tuple được đánh số -1, phần tử liền trước có chỉ số nhỏ hơn 1 đơn vị so với phần tử liền sau. Xem ví dụ:"
      ]
    },
    {
      "cell_type": "code",
      "metadata": {
        "colab": {
          "base_uri": "https://localhost:8080/"
        },
        "id": "o_rLlKkStrnC",
        "outputId": "e7bd991b-86ce-4e10-b610-6ae2281366fa"
      },
      "source": [
        "x = (1, 2, 3)\n",
        "print(x)\n",
        "print(x[-1])\n",
        "print(x[-2])"
      ],
      "execution_count": 25,
      "outputs": [
        {
          "output_type": "stream",
          "text": [
            "(1, 2, 3)\n",
            "3\n",
            "2\n"
          ],
          "name": "stdout"
        }
      ]
    },
    {
      "cell_type": "markdown",
      "metadata": {
        "id": "SdtsTPwruA57"
      },
      "source": [
        "Lưu ý: khi truy cập phần tử nằm ngoài tuple sẽ gây ra lỗi"
      ]
    },
    {
      "cell_type": "code",
      "metadata": {
        "colab": {
          "base_uri": "https://localhost:8080/",
          "height": 195
        },
        "id": "_IzJFcs2uCkn",
        "outputId": "42120419-3054-475f-c862-f9f5c9b11056"
      },
      "source": [
        "x = (1, 2, 3)\n",
        "print(x[5])\n",
        "print(x[-5])"
      ],
      "execution_count": 28,
      "outputs": [
        {
          "output_type": "error",
          "ename": "IndexError",
          "evalue": "ignored",
          "traceback": [
            "\u001b[0;31m---------------------------------------------------------------------------\u001b[0m",
            "\u001b[0;31mIndexError\u001b[0m                                Traceback (most recent call last)",
            "\u001b[0;32m<ipython-input-28-1ff000fe8882>\u001b[0m in \u001b[0;36m<module>\u001b[0;34m()\u001b[0m\n\u001b[1;32m      1\u001b[0m \u001b[0mx\u001b[0m \u001b[0;34m=\u001b[0m \u001b[0;34m(\u001b[0m\u001b[0;36m1\u001b[0m\u001b[0;34m,\u001b[0m \u001b[0;36m2\u001b[0m\u001b[0;34m,\u001b[0m \u001b[0;36m3\u001b[0m\u001b[0;34m)\u001b[0m\u001b[0;34m\u001b[0m\u001b[0;34m\u001b[0m\u001b[0m\n\u001b[0;32m----> 2\u001b[0;31m \u001b[0mprint\u001b[0m\u001b[0;34m(\u001b[0m\u001b[0mx\u001b[0m\u001b[0;34m[\u001b[0m\u001b[0;36m5\u001b[0m\u001b[0;34m]\u001b[0m\u001b[0;34m)\u001b[0m\u001b[0;34m\u001b[0m\u001b[0;34m\u001b[0m\u001b[0m\n\u001b[0m\u001b[1;32m      3\u001b[0m \u001b[0mprint\u001b[0m\u001b[0;34m(\u001b[0m\u001b[0mx\u001b[0m\u001b[0;34m[\u001b[0m\u001b[0;34m-\u001b[0m\u001b[0;36m5\u001b[0m\u001b[0;34m]\u001b[0m\u001b[0;34m)\u001b[0m\u001b[0;34m\u001b[0m\u001b[0;34m\u001b[0m\u001b[0m\n",
            "\u001b[0;31mIndexError\u001b[0m: tuple index out of range"
          ]
        }
      ]
    },
    {
      "cell_type": "markdown",
      "metadata": {
        "id": "b2K-TxLPgKAs"
      },
      "source": [
        "### Danh sách"
      ]
    },
    {
      "cell_type": "markdown",
      "metadata": {
        "id": "-rCmFsLAwd5_"
      },
      "source": [
        "Trong python, ta có thể dùng danh sách để chứa nhiều phần tử trong 1 biến."
      ]
    },
    {
      "cell_type": "code",
      "metadata": {
        "id": "KN_UZrhTgKAt",
        "colab": {
          "base_uri": "https://localhost:8080/"
        },
        "outputId": "b28e569d-4822-4a3c-c06f-15cc305495ad"
      },
      "source": [
        "x = [1, 2, 3, 4]\n",
        "print(type(x))"
      ],
      "execution_count": 29,
      "outputs": [
        {
          "output_type": "stream",
          "text": [
            "<class 'list'>\n"
          ],
          "name": "stdout"
        }
      ]
    },
    {
      "cell_type": "markdown",
      "metadata": {
        "id": "S_nVVbwOgKAv"
      },
      "source": [
        "Một danh sách có thể bao gồm danh sách khác (nested list), các phần tử của một danh sách có thể thuộc nhiều lớp dữ liệu khác nhau."
      ]
    },
    {
      "cell_type": "code",
      "metadata": {
        "id": "ZU96PcK8gKAv",
        "colab": {
          "base_uri": "https://localhost:8080/"
        },
        "outputId": "5221bc33-3902-4f00-ac34-e15cffd739c3"
      },
      "source": [
        "x = [[1, 2], [3, 4]] # Ma trận 2x2\n",
        "x = [[1.0, 2], \"xyz\", [5, 6]]\n",
        "print(type(x))"
      ],
      "execution_count": 30,
      "outputs": [
        {
          "output_type": "stream",
          "text": [
            "<class 'list'>\n"
          ],
          "name": "stdout"
        }
      ]
    },
    {
      "cell_type": "markdown",
      "metadata": {
        "id": "gAJCrmEtgKBI"
      },
      "source": [
        "#### Thao tác trên danh sách"
      ]
    },
    {
      "cell_type": "markdown",
      "metadata": {
        "id": "ciOm8SpkgKBJ"
      },
      "source": [
        "Các thao tác cơ bản cho danh sách bao gồm:"
      ]
    },
    {
      "cell_type": "markdown",
      "metadata": {
        "id": "Bn1De0t4l87g"
      },
      "source": [
        "- Lấy độ dài danh sách (`len`)"
      ]
    },
    {
      "cell_type": "code",
      "metadata": {
        "colab": {
          "base_uri": "https://localhost:8080/"
        },
        "id": "tzF318DBmAfy",
        "outputId": "acaa64bc-7dff-4461-e2be-ef972930622e"
      },
      "source": [
        "x = ['P', 'i', 'M', 'A']\n",
        "print(len(x))"
      ],
      "execution_count": 31,
      "outputs": [
        {
          "output_type": "stream",
          "text": [
            "4\n"
          ],
          "name": "stdout"
        }
      ]
    },
    {
      "cell_type": "markdown",
      "metadata": {
        "id": "wMlyj7c-gKBJ"
      },
      "source": [
        "- Thêm phần tử vào cuối list (`append`)"
      ]
    },
    {
      "cell_type": "code",
      "metadata": {
        "id": "Ev0nAx9TgKBK",
        "colab": {
          "base_uri": "https://localhost:8080/"
        },
        "outputId": "81a9523c-e32c-4c6d-c5b3-43c91b5d7381"
      },
      "source": [
        "x = ['P', 'i', 'M', 'A']\n",
        "print(x)\n",
        "x.append(2021)\n",
        "print(x)"
      ],
      "execution_count": 32,
      "outputs": [
        {
          "output_type": "stream",
          "text": [
            "['P', 'i', 'M', 'A']\n",
            "['P', 'i', 'M', 'A', 2021]\n"
          ],
          "name": "stdout"
        }
      ]
    },
    {
      "cell_type": "markdown",
      "metadata": {
        "id": "u6-tvTr6gKBM"
      },
      "source": [
        "- Truy cập phần tử\n",
        "\n",
        "Tương tự như tuple, ta có thể truy cập phần tử dựa vào chỉ số"
      ]
    },
    {
      "cell_type": "code",
      "metadata": {
        "id": "vZV8LQvWgKBN",
        "colab": {
          "base_uri": "https://localhost:8080/"
        },
        "outputId": "a643987a-2269-4e82-990e-4ae16fac5978"
      },
      "source": [
        "x = ['P', 'i', 'M', 'A']\n",
        "print(x[0])\n",
        "print(x[-1])\n",
        "print(x[-2])"
      ],
      "execution_count": 33,
      "outputs": [
        {
          "output_type": "stream",
          "text": [
            "P\n",
            "A\n",
            "M\n"
          ],
          "name": "stdout"
        }
      ]
    },
    {
      "cell_type": "markdown",
      "metadata": {
        "id": "qFAnXoCsgKBS"
      },
      "source": [
        "- Chèn phần tử vào một vị trí bất kỳ trong list (`insert`)"
      ]
    },
    {
      "cell_type": "code",
      "metadata": {
        "scrolled": true,
        "id": "FVYWqIQwgKBT",
        "colab": {
          "base_uri": "https://localhost:8080/"
        },
        "outputId": "a6981aab-b432-40a9-d92f-6efa30520c46"
      },
      "source": [
        "x = ['P', 'i', 'M', 'A']\n",
        "x.insert(1, 123)\n",
        "print(x)"
      ],
      "execution_count": 34,
      "outputs": [
        {
          "output_type": "stream",
          "text": [
            "['P', 123, 'i', 'M', 'A']\n"
          ],
          "name": "stdout"
        }
      ]
    },
    {
      "cell_type": "markdown",
      "metadata": {
        "id": "IYa2TRixgKBV"
      },
      "source": [
        "- Xóa phần tử ở một vị trí bất kỳ (`pop`)"
      ]
    },
    {
      "cell_type": "code",
      "metadata": {
        "id": "AkFJpjnwgKBW",
        "colab": {
          "base_uri": "https://localhost:8080/"
        },
        "outputId": "fa55bf07-c25c-4238-9e04-5f047228f8a1"
      },
      "source": [
        "x = ['P', 'i', 'M', 'A']\n",
        "x.pop(1)\n",
        "print(x)"
      ],
      "execution_count": 35,
      "outputs": [
        {
          "output_type": "stream",
          "text": [
            "['P', 'M', 'A']\n"
          ],
          "name": "stdout"
        }
      ]
    },
    {
      "cell_type": "markdown",
      "metadata": {
        "id": "uqn7WLehgKBX"
      },
      "source": [
        "- Xóa phần tử đầu tiên mang giá trị cho trước (`remove`)."
      ]
    },
    {
      "cell_type": "code",
      "metadata": {
        "id": "Q859SBougKBY",
        "colab": {
          "base_uri": "https://localhost:8080/"
        },
        "outputId": "91230878-686a-4468-eacb-145386c5564e"
      },
      "source": [
        "x = ['P', 'i', 'M', 'A', 'i']\n",
        "x.remove('i')\n",
        "print(x)"
      ],
      "execution_count": 36,
      "outputs": [
        {
          "output_type": "stream",
          "text": [
            "['P', 'M', 'A', 'i']\n"
          ],
          "name": "stdout"
        }
      ]
    },
    {
      "cell_type": "markdown",
      "metadata": {
        "id": "8qpfdirVqFdn"
      },
      "source": [
        "Lưu ý: xóa phần tử không nằm trong danh sách sẽ gây ra lỗi"
      ]
    },
    {
      "cell_type": "code",
      "metadata": {
        "id": "DdfRUMJ7qLjK",
        "colab": {
          "base_uri": "https://localhost:8080/",
          "height": 178
        },
        "outputId": "cac57df5-f750-47d4-eedb-d1bde2c00e85"
      },
      "source": [
        "x = ['P', 'i', 'M', 'A']\n",
        "x.remove(123) # lỗi"
      ],
      "execution_count": 38,
      "outputs": [
        {
          "output_type": "error",
          "ename": "ValueError",
          "evalue": "ignored",
          "traceback": [
            "\u001b[0;31m---------------------------------------------------------------------------\u001b[0m",
            "\u001b[0;31mValueError\u001b[0m                                Traceback (most recent call last)",
            "\u001b[0;32m<ipython-input-38-60f835cebd7b>\u001b[0m in \u001b[0;36m<module>\u001b[0;34m()\u001b[0m\n\u001b[1;32m      1\u001b[0m \u001b[0mx\u001b[0m \u001b[0;34m=\u001b[0m \u001b[0;34m[\u001b[0m\u001b[0;34m'P'\u001b[0m\u001b[0;34m,\u001b[0m \u001b[0;34m'i'\u001b[0m\u001b[0;34m,\u001b[0m \u001b[0;34m'M'\u001b[0m\u001b[0;34m,\u001b[0m \u001b[0;34m'A'\u001b[0m\u001b[0;34m]\u001b[0m\u001b[0;34m\u001b[0m\u001b[0;34m\u001b[0m\u001b[0m\n\u001b[0;32m----> 2\u001b[0;31m \u001b[0mx\u001b[0m\u001b[0;34m.\u001b[0m\u001b[0mremove\u001b[0m\u001b[0;34m(\u001b[0m\u001b[0;36m123\u001b[0m\u001b[0;34m)\u001b[0m \u001b[0;31m# lỗi\u001b[0m\u001b[0;34m\u001b[0m\u001b[0;34m\u001b[0m\u001b[0m\n\u001b[0m",
            "\u001b[0;31mValueError\u001b[0m: list.remove(x): x not in list"
          ]
        }
      ]
    },
    {
      "cell_type": "markdown",
      "metadata": {
        "id": "XIj5_tp-gKBZ"
      },
      "source": [
        "- Sắp xếp theo thứ tự tăng dần (`sort`)"
      ]
    },
    {
      "cell_type": "code",
      "metadata": {
        "id": "ui6HF1gxgKBa",
        "colab": {
          "base_uri": "https://localhost:8080/"
        },
        "outputId": "34bf584b-6885-4a53-e1de-e87e6028dc3d"
      },
      "source": [
        "x = [5, 1, 3, 2, 8]\n",
        "x.sort()\n",
        "print(x)"
      ],
      "execution_count": 39,
      "outputs": [
        {
          "output_type": "stream",
          "text": [
            "[1, 2, 3, 5, 8]\n"
          ],
          "name": "stdout"
        }
      ]
    },
    {
      "cell_type": "markdown",
      "metadata": {
        "id": "ITVm1c_fqvVa"
      },
      "source": [
        "- Duyệt danh sách\n",
        "\n",
        "Đôi khi ta muốn duyệt qua hết các phần tử của danh sách. Ta có thể dùng câu lệnh `for` với cấu trúc: `for <biến> in <danh_sách>: <khối lệnh>`"
      ]
    },
    {
      "cell_type": "code",
      "metadata": {
        "id": "IuejUmZvra1g",
        "colab": {
          "base_uri": "https://localhost:8080/"
        },
        "outputId": "61955bf8-27d3-4943-b859-fe6ef6f5b96b"
      },
      "source": [
        "x = ['P', 'i', 'M', 'A']\n",
        "for ele in x:\n",
        "    print(ele)"
      ],
      "execution_count": 40,
      "outputs": [
        {
          "output_type": "stream",
          "text": [
            "P\n",
            "i\n",
            "M\n",
            "A\n"
          ],
          "name": "stdout"
        }
      ]
    },
    {
      "cell_type": "markdown",
      "metadata": {
        "id": "m9IIMElgrlD4"
      },
      "source": [
        "Tuy nhiên, đôi khi ta cần chỉ số của phần tử thay vì chính nó. Dưới đây là một số cách để lấy chỉ số của phần tử:\n",
        "- Dùng hàm len kết hợp với range"
      ]
    },
    {
      "cell_type": "code",
      "metadata": {
        "id": "R0RhiuDyr1Pu",
        "colab": {
          "base_uri": "https://localhost:8080/"
        },
        "outputId": "67c47bc6-fa26-494e-8829-39cc90b02cfd"
      },
      "source": [
        "x = ['P', 'i', 'M', 'A']\n",
        "for i in range(len(x)):\n",
        "    print(i, \"->\", x[i])"
      ],
      "execution_count": 41,
      "outputs": [
        {
          "output_type": "stream",
          "text": [
            "0 -> P\n",
            "1 -> i\n",
            "2 -> M\n",
            "3 -> A\n"
          ],
          "name": "stdout"
        }
      ]
    },
    {
      "cell_type": "markdown",
      "metadata": {
        "id": "kCnm3CJIuYY2"
      },
      "source": [
        "- Dùng hàm `enumerate`. Hàm `enumerate(x)` sẽ trả về một danh sách các tuple, mỗi tuple gồm 2 thành phần là `(i, x[i])`"
      ]
    },
    {
      "cell_type": "code",
      "metadata": {
        "id": "qNvauc9huq7g",
        "colab": {
          "base_uri": "https://localhost:8080/"
        },
        "outputId": "12e03d61-4b06-424a-de4e-ce17bdc9ebfe"
      },
      "source": [
        "x = ['P', 'i', 'M', 'A']\n",
        "for ele in enumerate(x):\n",
        "    print(ele)\n",
        "print()\n",
        "\n",
        "for ele in enumerate(x):\n",
        "    print(ele[0], \"->\", ele[1])\n",
        "print()\n",
        "\n",
        "# Do phần tử trong enumerate là tuple\n",
        "# nên ta có thể lấy giá trị của tuple theo cách này\n",
        "for idx, ele in enumerate(x):\n",
        "    print(idx, \"->\", ele)"
      ],
      "execution_count": 42,
      "outputs": [
        {
          "output_type": "stream",
          "text": [
            "(0, 'P')\n",
            "(1, 'i')\n",
            "(2, 'M')\n",
            "(3, 'A')\n",
            "\n",
            "0 -> P\n",
            "1 -> i\n",
            "2 -> M\n",
            "3 -> A\n",
            "\n",
            "0 -> P\n",
            "1 -> i\n",
            "2 -> M\n",
            "3 -> A\n"
          ],
          "name": "stdout"
        }
      ]
    },
    {
      "cell_type": "markdown",
      "metadata": {
        "id": "m9-8K8UMgKBb"
      },
      "source": [
        "- Cắt danh sách (slice) theo cú pháp `[begin : end : step]`.\n",
        "    - `begin` mặc định là 0, `end` mặc định là độ dài của list, `step` mặc định là 1.\n",
        "    - Nếu cho `begin` là số âm thì `end` mặc định là 0.\n",
        "    - Nếu cho `end` là số âm thì `begin` mặc định là `-len(list)`.\n",
        "    - Nếu cho `step` là số âm thì mặc định `begin = len(list)-1` và `end = 0`.\n",
        "    - ...\n",
        "\n",
        "Các bạn có thể thoải mái khám phá thử nghiệm về trò chơi cắt mảng này."
      ]
    },
    {
      "cell_type": "code",
      "metadata": {
        "id": "nyH2aueGgKBc",
        "colab": {
          "base_uri": "https://localhost:8080/"
        },
        "outputId": "866f8794-d6c2-4a2f-fa73-01b8320c05c7"
      },
      "source": [
        "x = [1, 2, 3, 4, 5, 6, 7, 8, 9, 10]\n",
        "print(x[2:5])\n",
        "print(x[:5])\n",
        "print(x[5:])\n",
        "print(x[::-1]) # đảo chiều danh sách\n",
        "print(x[-3:])\n",
        "print(x[:-4])"
      ],
      "execution_count": 43,
      "outputs": [
        {
          "output_type": "stream",
          "text": [
            "[3, 4, 5]\n",
            "[1, 2, 3, 4, 5]\n",
            "[6, 7, 8, 9, 10]\n",
            "[10, 9, 8, 7, 6, 5, 4, 3, 2, 1]\n",
            "[8, 9, 10]\n",
            "[1, 2, 3, 4, 5, 6]\n"
          ],
          "name": "stdout"
        }
      ]
    },
    {
      "cell_type": "markdown",
      "metadata": {
        "id": "fIWm4DWAgKCB"
      },
      "source": [
        "#### Cách tạo nhanh `list`"
      ]
    },
    {
      "cell_type": "markdown",
      "metadata": {
        "id": "H9zbjIWrgKCB"
      },
      "source": [
        "Một `list` có thể được tạo nhanh thông qua dòng `for` (còn gọi là list comprehension). Chẳng hạn tạo một danh sách các số tự nhiên nhỏ hơn 10."
      ]
    },
    {
      "cell_type": "code",
      "metadata": {
        "id": "Cv0E3uSegKCC",
        "colab": {
          "base_uri": "https://localhost:8080/"
        },
        "outputId": "96dcaf39-6549-45d9-cb31-49636c548771"
      },
      "source": [
        "a = [x for x in range(10)]\n",
        "print(a)"
      ],
      "execution_count": 44,
      "outputs": [
        {
          "output_type": "stream",
          "text": [
            "[0, 1, 2, 3, 4, 5, 6, 7, 8, 9]\n"
          ],
          "name": "stdout"
        }
      ]
    },
    {
      "cell_type": "markdown",
      "metadata": {
        "id": "Qrx3CcybgKCF"
      },
      "source": [
        "Tạo danh sách gồm bình phương của các số tự nhiên trong khoảng `[4; 8]`:"
      ]
    },
    {
      "cell_type": "code",
      "metadata": {
        "id": "rnUUzZMHgKCG",
        "colab": {
          "base_uri": "https://localhost:8080/"
        },
        "outputId": "1fd26e78-c0f8-418f-aedf-244becd58de1"
      },
      "source": [
        "# list comprehension\n",
        "a = [x * x for x in range(4, 9)]\n",
        "print(a)"
      ],
      "execution_count": 45,
      "outputs": [
        {
          "output_type": "stream",
          "text": [
            "[16, 25, 36, 49, 64]\n"
          ],
          "name": "stdout"
        }
      ]
    },
    {
      "cell_type": "markdown",
      "metadata": {
        "id": "R-USEZYg_D-P"
      },
      "source": [
        "Ta cũng có thể tạo một danh sách mà chỉ gồm các phần tử thỏa mãn một tính chất nào đó. Ví dụ ta có thể lọc ra các số chẵn nằm trong 1 danh sách:"
      ]
    },
    {
      "cell_type": "code",
      "metadata": {
        "colab": {
          "base_uri": "https://localhost:8080/"
        },
        "id": "QB6CaS2Z_BtV",
        "outputId": "b08c2a32-6c9c-4d7f-db2f-278f541412ce"
      },
      "source": [
        "a = [2, 1, 3, 5, 6, 8, 10, 9]\n",
        "\n",
        "b = [x for x in a if x % 2 == 0]\n",
        "\n",
        "print(b)"
      ],
      "execution_count": 46,
      "outputs": [
        {
          "output_type": "stream",
          "text": [
            "[2, 6, 8, 10]\n"
          ],
          "name": "stdout"
        }
      ]
    },
    {
      "cell_type": "markdown",
      "metadata": {
        "id": "X4QstmMugKAx"
      },
      "source": [
        "### Từ điển\n",
        "Từ điển (dictionary) dùng để lưu dữ liệu dưới dạng \"key-value\" (khóa và giá trị). Quan hệ key-value giống với ánh xạ trong toán học."
      ]
    },
    {
      "cell_type": "code",
      "metadata": {
        "id": "TtY6D2idgKAy",
        "colab": {
          "base_uri": "https://localhost:8080/"
        },
        "outputId": "6617de92-c591-4aa4-c8b3-1cec6a2ce616"
      },
      "source": [
        "x = {\"P\": \"Project\",\n",
        "     \"i\": \"in\",\n",
        "     \"M\": \"Mathematics\",\n",
        "     \"A\": \"Applications\"}\n",
        "print(type(x))\n",
        "print(x)"
      ],
      "execution_count": 47,
      "outputs": [
        {
          "output_type": "stream",
          "text": [
            "<class 'dict'>\n",
            "{'P': 'Project', 'i': 'in', 'M': 'Mathematics', 'A': 'Applications'}\n"
          ],
          "name": "stdout"
        }
      ]
    },
    {
      "cell_type": "markdown",
      "metadata": {
        "id": "Ci1tOWYygKBl"
      },
      "source": [
        "#### Thao tác trên từ điển"
      ]
    },
    {
      "cell_type": "markdown",
      "metadata": {
        "id": "8-dHaMmRgKBl"
      },
      "source": [
        "- Truy cập phần tử\n",
        "\n",
        "Khi gọi một phần tử trong danh sách ta dùng chỉ số của phần tử (e.g. `x[5]`). Tương tự trong từ điển, để tìm một giá trị (value) ta dùng khóa (key)."
      ]
    },
    {
      "cell_type": "code",
      "metadata": {
        "scrolled": true,
        "id": "iOhkPfrDgKBm",
        "colab": {
          "base_uri": "https://localhost:8080/"
        },
        "outputId": "6b013746-8851-4530-b5a0-8408b4417a0d"
      },
      "source": [
        "x = {\"P\": \"Project\",\n",
        "     \"i\": \"in\",\n",
        "     \"M\": \"Mathematics\",\n",
        "     \"A\": \"Applications\"}\n",
        "print(\"M stands for\", x[\"M\"])"
      ],
      "execution_count": 48,
      "outputs": [
        {
          "output_type": "stream",
          "text": [
            "M stands for Mathematics\n"
          ],
          "name": "stdout"
        }
      ]
    },
    {
      "cell_type": "markdown",
      "metadata": {
        "id": "FTEor6PQygTN"
      },
      "source": [
        "Để thêm một \"định nghĩa\" mới (một bộ key-value mới) ta có thể thoải mái \"gán\" (assign) mà không cần qua thao tác nào."
      ]
    },
    {
      "cell_type": "code",
      "metadata": {
        "colab": {
          "base_uri": "https://localhost:8080/"
        },
        "id": "nTo7SioLynaJ",
        "outputId": "ca77dc2d-a6c5-4525-ffe0-fed7f8e991dc"
      },
      "source": [
        "x = {\"P\": \"Project\",\n",
        "     \"i\": \"in\",\n",
        "     \"M\": \"Mathematics\",\n",
        "     \"A\": \"Applications\"}\n",
        "\n",
        "# Nếu chưa có thì nó sẽ tạo\n",
        "x[\"2016\"] = \"First PiMA camp\"\n",
        "print(x)"
      ],
      "execution_count": 49,
      "outputs": [
        {
          "output_type": "stream",
          "text": [
            "{'P': 'Project', 'i': 'in', 'M': 'Mathematics', 'A': 'Applications', '2016': 'First PiMA camp'}\n"
          ],
          "name": "stdout"
        }
      ]
    },
    {
      "cell_type": "markdown",
      "metadata": {
        "id": "EFAmj4XLypjK"
      },
      "source": [
        "Ta có thể gán thoải mái những phần tử chưa tồn tại, tuy nhiên nếu truy cập phần tử chưa tồn tại thì sẽ gây lỗi:"
      ]
    },
    {
      "cell_type": "code",
      "metadata": {
        "colab": {
          "base_uri": "https://localhost:8080/",
          "height": 195
        },
        "id": "-RlFcZ7hyOzQ",
        "outputId": "3567bc6f-4506-4369-8df1-aa24b10e8b88"
      },
      "source": [
        "x = {\"P\": \"Project\",\n",
        "     \"i\": \"in\",\n",
        "     \"M\": \"Mathematics\",\n",
        "     \"A\": \"Applications\"}\n",
        "# Ta có thể gán phần tử chưa tồn tại, nhưng nếu truy cập nó thì sẽ gây ra lỗi\n",
        "print(x[123])"
      ],
      "execution_count": 51,
      "outputs": [
        {
          "output_type": "error",
          "ename": "KeyError",
          "evalue": "ignored",
          "traceback": [
            "\u001b[0;31m---------------------------------------------------------------------------\u001b[0m",
            "\u001b[0;31mKeyError\u001b[0m                                  Traceback (most recent call last)",
            "\u001b[0;32m<ipython-input-51-c02173fd31c4>\u001b[0m in \u001b[0;36m<module>\u001b[0;34m()\u001b[0m\n\u001b[1;32m      4\u001b[0m      \"A\": \"Applications\"}\n\u001b[1;32m      5\u001b[0m \u001b[0;31m# Ta có thể gán phần tử chưa tồn tại, nhưng nếu truy cập nó thì sẽ gây ra lỗi\u001b[0m\u001b[0;34m\u001b[0m\u001b[0;34m\u001b[0m\u001b[0;34m\u001b[0m\u001b[0m\n\u001b[0;32m----> 6\u001b[0;31m \u001b[0mprint\u001b[0m\u001b[0;34m(\u001b[0m\u001b[0mx\u001b[0m\u001b[0;34m[\u001b[0m\u001b[0;36m123\u001b[0m\u001b[0;34m]\u001b[0m\u001b[0;34m)\u001b[0m\u001b[0;34m\u001b[0m\u001b[0;34m\u001b[0m\u001b[0m\n\u001b[0m",
            "\u001b[0;31mKeyError\u001b[0m: 123"
          ]
        }
      ]
    },
    {
      "cell_type": "markdown",
      "metadata": {
        "id": "AteVRNx9y-tR"
      },
      "source": [
        "- Duyệt từ điển:\n",
        "Để duyệt các phần tử trong từ điển `x`, ta có thể dùng hàm `x.items()`. Hàm này sẽ trả về danh sách các phần tử trong từ điển dưới dạng tuple 2 phần tử."
      ]
    },
    {
      "cell_type": "code",
      "metadata": {
        "colab": {
          "base_uri": "https://localhost:8080/"
        },
        "id": "H77C3tS-zpWn",
        "outputId": "87cd7cfb-214f-48ec-bdef-caecbf580742"
      },
      "source": [
        "x = {\"P\": \"Project\",\n",
        "     \"i\": \"in\",\n",
        "     \"M\": \"Mathematics\",\n",
        "     \"A\": \"Applications\"}\n",
        "print(x.items())\n",
        "\n",
        "for key, value in x.items():\n",
        "    print(key, \"stands for\", value)"
      ],
      "execution_count": 52,
      "outputs": [
        {
          "output_type": "stream",
          "text": [
            "dict_items([('P', 'Project'), ('i', 'in'), ('M', 'Mathematics'), ('A', 'Applications')])\n",
            "P stands for Project\n",
            "i stands for in\n",
            "M stands for Mathematics\n",
            "A stands for Applications\n"
          ],
          "name": "stdout"
        }
      ]
    },
    {
      "cell_type": "markdown",
      "metadata": {
        "id": "dB0zgiKn0CWJ"
      },
      "source": [
        "- Xóa key: `pop(key)`"
      ]
    },
    {
      "cell_type": "code",
      "metadata": {
        "colab": {
          "base_uri": "https://localhost:8080/"
        },
        "id": "9FwUxre_0JOc",
        "outputId": "67c38b52-a7ae-4257-a0e6-ea52c9b3c0f8"
      },
      "source": [
        "x = {\"P\": \"Project\",\n",
        "     \"i\": \"in\",\n",
        "     \"M\": \"Mathematics\",\n",
        "     \"A\": \"Applications\"}\n",
        "\n",
        "x.pop(\"P\")\n",
        "print(x)"
      ],
      "execution_count": 53,
      "outputs": [
        {
          "output_type": "stream",
          "text": [
            "{'i': 'in', 'M': 'Mathematics', 'A': 'Applications'}\n"
          ],
          "name": "stdout"
        }
      ]
    },
    {
      "cell_type": "markdown",
      "metadata": {
        "id": "-gklfkrC0Vn5"
      },
      "source": [
        "### Tập hợp\n",
        "\n",
        "Tập hợp (set) dùng để lưu trữ các phần tử khác nhau và không có tính thứ tự."
      ]
    },
    {
      "cell_type": "code",
      "metadata": {
        "colab": {
          "base_uri": "https://localhost:8080/"
        },
        "id": "-6w7Fi7C0_MY",
        "outputId": "d4c45603-fa50-44ee-9a9d-b4123e07c13f"
      },
      "source": [
        "x = {\"P\", \"i\", \"M\", \"A\"}\n",
        "print(type(x))\n",
        "print(x)"
      ],
      "execution_count": 54,
      "outputs": [
        {
          "output_type": "stream",
          "text": [
            "<class 'set'>\n",
            "{'M', 'A', 'i', 'P'}\n"
          ],
          "name": "stdout"
        }
      ]
    },
    {
      "cell_type": "markdown",
      "metadata": {
        "id": "4qjUoR7M1NKs"
      },
      "source": [
        "#### Thao tác trên tập hợp\n",
        "- Duyệt phần tử"
      ]
    },
    {
      "cell_type": "code",
      "metadata": {
        "colab": {
          "base_uri": "https://localhost:8080/"
        },
        "id": "jKu5GJ3I1USR",
        "outputId": "5fd76cd1-fb08-41a5-f1e1-171085b63e7e"
      },
      "source": [
        "x = {\"P\", \"i\", \"M\", \"A\", \"A\"}\n",
        "for ele in x:\n",
        "    print(ele)"
      ],
      "execution_count": 55,
      "outputs": [
        {
          "output_type": "stream",
          "text": [
            "M\n",
            "A\n",
            "i\n",
            "P\n"
          ],
          "name": "stdout"
        }
      ]
    },
    {
      "cell_type": "markdown",
      "metadata": {
        "id": "YSGsTNe01foW"
      },
      "source": [
        "- Thêm phần tử `add()`:"
      ]
    },
    {
      "cell_type": "code",
      "metadata": {
        "colab": {
          "base_uri": "https://localhost:8080/"
        },
        "id": "ERn7d_8H1jW-",
        "outputId": "0a33d244-cce6-444f-82a0-28b61f8dfdc6"
      },
      "source": [
        "x = {\"P\", \"i\", \"M\", \"A\"}\n",
        "x.add(\"B\")\n",
        "print(x)"
      ],
      "execution_count": 56,
      "outputs": [
        {
          "output_type": "stream",
          "text": [
            "{'B', 'i', 'M', 'A', 'P'}\n"
          ],
          "name": "stdout"
        }
      ]
    },
    {
      "cell_type": "markdown",
      "metadata": {
        "id": "zqouCLY91n11"
      },
      "source": [
        "- Xóa phần tử `remove()`"
      ]
    },
    {
      "cell_type": "code",
      "metadata": {
        "colab": {
          "base_uri": "https://localhost:8080/"
        },
        "id": "TXulX5R11phQ",
        "outputId": "64fe97eb-c74f-4284-c895-69b38eb90622"
      },
      "source": [
        "x = {\"P\", \"i\", \"M\", \"A\"}\n",
        "x.remove(\"A\")\n",
        "print(x)"
      ],
      "execution_count": 57,
      "outputs": [
        {
          "output_type": "stream",
          "text": [
            "{'M', 'i', 'P'}\n"
          ],
          "name": "stdout"
        }
      ]
    },
    {
      "cell_type": "code",
      "metadata": {
        "colab": {
          "base_uri": "https://localhost:8080/",
          "height": 195
        },
        "id": "od4MHG8T1vV-",
        "outputId": "7fa09464-e7d9-4829-ec55-ad0646cdbfee"
      },
      "source": [
        "x = {\"P\", \"i\", \"M\", \"A\"}\n",
        "x.remove(\"B\")\n",
        "print(x)"
      ],
      "execution_count": 60,
      "outputs": [
        {
          "output_type": "error",
          "ename": "KeyError",
          "evalue": "ignored",
          "traceback": [
            "\u001b[0;31m---------------------------------------------------------------------------\u001b[0m",
            "\u001b[0;31mKeyError\u001b[0m                                  Traceback (most recent call last)",
            "\u001b[0;32m<ipython-input-60-552cfcac22a8>\u001b[0m in \u001b[0;36m<module>\u001b[0;34m()\u001b[0m\n\u001b[1;32m      1\u001b[0m \u001b[0mx\u001b[0m \u001b[0;34m=\u001b[0m \u001b[0;34m{\u001b[0m\u001b[0;34m\"P\"\u001b[0m\u001b[0;34m,\u001b[0m \u001b[0;34m\"i\"\u001b[0m\u001b[0;34m,\u001b[0m \u001b[0;34m\"M\"\u001b[0m\u001b[0;34m,\u001b[0m \u001b[0;34m\"A\"\u001b[0m\u001b[0;34m}\u001b[0m\u001b[0;34m\u001b[0m\u001b[0;34m\u001b[0m\u001b[0m\n\u001b[0;32m----> 2\u001b[0;31m \u001b[0mx\u001b[0m\u001b[0;34m.\u001b[0m\u001b[0mremove\u001b[0m\u001b[0;34m(\u001b[0m\u001b[0;34m\"B\"\u001b[0m\u001b[0;34m)\u001b[0m\u001b[0;34m\u001b[0m\u001b[0;34m\u001b[0m\u001b[0m\n\u001b[0m\u001b[1;32m      3\u001b[0m \u001b[0mprint\u001b[0m\u001b[0;34m(\u001b[0m\u001b[0mx\u001b[0m\u001b[0;34m)\u001b[0m\u001b[0;34m\u001b[0m\u001b[0;34m\u001b[0m\u001b[0m\n",
            "\u001b[0;31mKeyError\u001b[0m: 'B'"
          ]
        }
      ]
    },
    {
      "cell_type": "markdown",
      "metadata": {
        "id": "BLQxUwyU7ha6"
      },
      "source": [
        "So sánh danh sách, tuple, tập hợp, từ điển.\n",
        "\n",
        "| Danh sách                                      | Tuple                                               | Tập hợp                           | Từ điển                                                        |\n",
        "|------------------------------------------------|-----------------------------------------------------|-----------------------------------|----------------------------------------------------------------|\n",
        "| Cho phép phần tử trùng nhau                    | Cho phép phần tử trùng nhau                         | Không cho phép phần tử trùng nhau | Các key không được trùng nhau                                  |\n",
        "| [1, 2, 3, 4, 5]                                | (1, 2, 3, 4, 5)                                     | {1, 2, 3, 4, 5}                   | {1: \"a\", 2: \"b\", 3: \"c\"}                                       |\n",
        "| Mutable: Có thể thay đổi (thêm, xóa, sửa, ...) | Immutable: không thể thay đổi tuple khi đã khai báo | Mutable                           | Mutable                                                        |\n",
        "| Có tính thứ tự                                 | Có tính thứ tự                                      | Không có tính thứ tự              | Có tính thứ tự* (Python 3.6 trở về trước không có tính thứ tự) |"
      ]
    },
    {
      "cell_type": "markdown",
      "metadata": {
        "id": "uwDy9XV3gKB5"
      },
      "source": [
        "## Hàm (function)\n",
        "Để khai báo một hàm, dùng cú pháp:"
      ]
    },
    {
      "cell_type": "code",
      "metadata": {
        "collapsed": true,
        "id": "r2ZWJ8k5gKB6"
      },
      "source": [
        "def f(param1, param2=2):\n",
        "    return param1 + param2 * 0.5"
      ],
      "execution_count": 61,
      "outputs": []
    },
    {
      "cell_type": "markdown",
      "metadata": {
        "id": "qXEZOZArgKB7"
      },
      "source": [
        "Hàm `f` trên lấy hai tham số, trong đó tham số thứ hai (`param2`) có giá trị mặc định là 0. Lưu ý rằng các tham số có giá trị mặc định phải chuyển ra sau cùng trong danh sách tham số."
      ]
    },
    {
      "cell_type": "markdown",
      "metadata": {
        "id": "lxiKlCnRgKB8"
      },
      "source": [
        "Các cách sử dụng hàm sau đây là hợp lệ:"
      ]
    },
    {
      "cell_type": "code",
      "metadata": {
        "id": "fXWeXo82gKB9",
        "colab": {
          "base_uri": "https://localhost:8080/"
        },
        "outputId": "359fc727-fd9c-4abe-a157-6ff4299349b4"
      },
      "source": [
        "print(f(1,2))\n",
        "print(f(1))\n",
        "print(f(param2 = 3, param1 = 2))"
      ],
      "execution_count": 62,
      "outputs": [
        {
          "output_type": "stream",
          "text": [
            "2.0\n",
            "2.0\n",
            "3.5\n"
          ],
          "name": "stdout"
        }
      ]
    },
    {
      "cell_type": "markdown",
      "metadata": {
        "id": "Yd5t7a5X3WnJ"
      },
      "source": [
        "Như vậy khi gọi hàm, nếu không ghi rõ tên tham số truyền vào (cách 1, 2) thì các giá trị gán lần lượt cho các tham số theo thứ tự khi khai báo hàm. Nếu có ghi rõ (cách 3) thì không bắt buộc vị trí khai báo."
      ]
    },
    {
      "cell_type": "markdown",
      "metadata": {
        "id": "REthy2zh3sU2"
      },
      "source": [
        "## Các thao tác nâng cao với chuỗi"
      ]
    },
    {
      "cell_type": "markdown",
      "metadata": {
        "id": "8aZyVD9pgKBe"
      },
      "source": [
        "- Chuỗi cũng có thao tác slice giống như danh sách:"
      ]
    },
    {
      "cell_type": "code",
      "metadata": {
        "colab": {
          "base_uri": "https://localhost:8080/"
        },
        "id": "FG639WTd4w1i",
        "outputId": "aca1fab6-69d8-43ce-ebd0-d5ad6ba49740"
      },
      "source": [
        "x = \"PiMA 2021\"\n",
        "print(x[::-1])\n",
        "print(x[:4])\n",
        "print(x[5:])"
      ],
      "execution_count": 63,
      "outputs": [
        {
          "output_type": "stream",
          "text": [
            "1202 AMiP\n",
            "PiMA\n",
            "2021\n"
          ],
          "name": "stdout"
        }
      ]
    },
    {
      "cell_type": "markdown",
      "metadata": {
        "id": "YYbsrF9BgKBf"
      },
      "source": [
        "- Thay thế một chuỗi con"
      ]
    },
    {
      "cell_type": "code",
      "metadata": {
        "id": "2BnBKSgEgKBf",
        "colab": {
          "base_uri": "https://localhost:8080/"
        },
        "outputId": "cdbbca8d-e7c0-4250-aff0-b098dcc42b09"
      },
      "source": [
        "x = \"PiMA 2xxx\"\n",
        "x.replace(\"xxx\", \"021\")\n",
        "print(x)\n",
        "print(x.replace(\"x\", \"021\"))\n",
        "x = x.replace(\"xxx\", \"021\")\n",
        "print(x)"
      ],
      "execution_count": 64,
      "outputs": [
        {
          "output_type": "stream",
          "text": [
            "PiMA 2xxx\n",
            "PiMA 2021021021\n",
            "PiMA 2021\n"
          ],
          "name": "stdout"
        }
      ]
    },
    {
      "cell_type": "markdown",
      "metadata": {
        "id": "p8YOtJ3a_vKJ"
      },
      "source": [
        "- Chuyển chuỗi qua chữ hoa, chữ thường"
      ]
    },
    {
      "cell_type": "code",
      "metadata": {
        "colab": {
          "base_uri": "https://localhost:8080/"
        },
        "id": "gTyXgJ5C_1OX",
        "outputId": "bb181f0b-8062-4e4d-f78f-99c8adaafa84"
      },
      "source": [
        "x = \"pImA\"\n",
        "print(x.upper())\n",
        "print(x.lower())"
      ],
      "execution_count": 65,
      "outputs": [
        {
          "output_type": "stream",
          "text": [
            "PIMA\n",
            "pima\n"
          ],
          "name": "stdout"
        }
      ]
    },
    {
      "cell_type": "markdown",
      "metadata": {
        "id": "4RuIeiLsACHG"
      },
      "source": [
        "- Loại bỏ các dấu cách, xuống dòng ở đầu và cuối chuổi:"
      ]
    },
    {
      "cell_type": "code",
      "metadata": {
        "colab": {
          "base_uri": "https://localhost:8080/"
        },
        "id": "l916MHuw_-iZ",
        "outputId": "f07fc87c-7315-4d15-cc35-4eb85b205691"
      },
      "source": [
        "x = \"                abc               \"\n",
        "print(x.strip().replace(' ', '_'))\n",
        "# Tương tự ta cũng có lstrip và rstrip\n",
        "print(x.lstrip().replace(' ', '_'))\n",
        "print(x.rstrip().replace(' ', '_'))"
      ],
      "execution_count": 66,
      "outputs": [
        {
          "output_type": "stream",
          "text": [
            "abc\n",
            "abc_______________\n",
            "________________abc\n"
          ],
          "name": "stdout"
        }
      ]
    },
    {
      "cell_type": "markdown",
      "metadata": {
        "id": "wXK_As7tgKBg"
      },
      "source": [
        "- Format chuỗi"
      ]
    },
    {
      "cell_type": "code",
      "metadata": {
        "id": "5DSkBb78gKBh",
        "colab": {
          "base_uri": "https://localhost:8080/"
        },
        "outputId": "fc554052-91b0-4e2b-9aaf-1e23c80b7083"
      },
      "source": [
        "year = 2021\n",
        "x = f\"PiMA {year}\"\n",
        "print(x)"
      ],
      "execution_count": 67,
      "outputs": [
        {
          "output_type": "stream",
          "text": [
            "PiMA 2021\n"
          ],
          "name": "stdout"
        }
      ]
    },
    {
      "cell_type": "code",
      "metadata": {
        "colab": {
          "base_uri": "https://localhost:8080/"
        },
        "id": "wn1D7qsB52jV",
        "outputId": "2a0af921-6d20-450b-f9ad-0afe6f03ee73"
      },
      "source": [
        "x = {\"P\": \"Project\",\n",
        "     \"i\": \"in\",\n",
        "     \"M\": \"Mathematics\",\n",
        "     \"A\": \"Applications\"}\n",
        "for key, value in x.items():\n",
        "    print(f\"{key} stands for {value}\")"
      ],
      "execution_count": 68,
      "outputs": [
        {
          "output_type": "stream",
          "text": [
            "P stands for Project\n",
            "i stands for in\n",
            "M stands for Mathematics\n",
            "A stands for Applications\n"
          ],
          "name": "stdout"
        }
      ]
    },
    {
      "cell_type": "markdown",
      "metadata": {
        "id": "8qtIczps6Pk0"
      },
      "source": [
        "- Nối chuỗi: Nối chuỗi dùng để nối một danh sách các chuỗi"
      ]
    },
    {
      "cell_type": "code",
      "metadata": {
        "colab": {
          "base_uri": "https://localhost:8080/"
        },
        "id": "jMiXBE796UjR",
        "outputId": "ad2642e1-da26-4102-f704-d0ddd80f11d1"
      },
      "source": [
        "x = [\"P\", \"i\", \"M\", \"A\"]\n",
        "y = ' '.join(x) # tạo chuỗi từ danh sách x và chèn khoảng trắng ở giữa\n",
        "print(y)\n",
        "\n",
        "x = [\"P\", \"i\", \"M\", \"A\"]\n",
        "y = ''.join(x)\n",
        "print(y)\n",
        "\n",
        "x = [\"P\", \"i\", \"M\", \"A\"]\n",
        "y = '---'.join(x)\n",
        "print(y)\n",
        "\n",
        "x = [\"P\", \"i\", \"M\", \"A\"]\n",
        "y = '\\n'.join(x) # tạo chuỗi từ danh sách x và chèn xuống dòng ở giữa\n",
        "print(y)"
      ],
      "execution_count": 69,
      "outputs": [
        {
          "output_type": "stream",
          "text": [
            "P i M A\n",
            "PiMA\n",
            "P---i---M---A\n",
            "P\n",
            "i\n",
            "M\n",
            "A\n"
          ],
          "name": "stdout"
        }
      ]
    },
    {
      "cell_type": "markdown",
      "metadata": {
        "id": "h572MJqo7y1C"
      },
      "source": [
        "- Tách chuỗi: Tách chuỗi thành danh sách các chuỗi dựa vào ký tự cho trước"
      ]
    },
    {
      "cell_type": "code",
      "metadata": {
        "colab": {
          "base_uri": "https://localhost:8080/"
        },
        "id": "vdPuqwuS70bt",
        "outputId": "42d75441-cc74-46e0-c3cf-fd72d3e7164a"
      },
      "source": [
        "x = \"PIMA 2021\"\n",
        "print(x.split(' '))"
      ],
      "execution_count": 70,
      "outputs": [
        {
          "output_type": "stream",
          "text": [
            "['PIMA', '2021']\n"
          ],
          "name": "stdout"
        }
      ]
    },
    {
      "cell_type": "code",
      "metadata": {
        "colab": {
          "base_uri": "https://localhost:8080/"
        },
        "id": "NwdMqOHM8IT_",
        "outputId": "1ff4cfd9-e2cf-4803-e03e-31167080447a"
      },
      "source": [
        "x = \"PIMA 2021\"\n",
        "print('_'.join(x.split(' ')))"
      ],
      "execution_count": 71,
      "outputs": [
        {
          "output_type": "stream",
          "text": [
            "PIMA_2021\n"
          ],
          "name": "stdout"
        }
      ]
    },
    {
      "cell_type": "markdown",
      "metadata": {
        "id": "xtP4Nbn5gKCL"
      },
      "source": [
        "## Đọc và viết dữ liệu"
      ]
    },
    {
      "cell_type": "markdown",
      "metadata": {
        "id": "PiArdlydgKCL"
      },
      "source": [
        "### Standard I/O"
      ]
    },
    {
      "cell_type": "code",
      "metadata": {
        "id": "st1Ibwf0gKCO",
        "colab": {
          "base_uri": "https://localhost:8080/"
        },
        "outputId": "a047d0a5-271e-4685-c81f-5125b83b5b3e"
      },
      "source": [
        "var = input(\"Give me a value: \")\n",
        "print(type(var))\n",
        "print(var)"
      ],
      "execution_count": 72,
      "outputs": [
        {
          "output_type": "stream",
          "text": [
            "Give me a value: 10\n",
            "<class 'str'>\n",
            "10\n"
          ],
          "name": "stdout"
        }
      ]
    },
    {
      "cell_type": "code",
      "metadata": {
        "scrolled": true,
        "id": "mKk7_SeOgKCN",
        "colab": {
          "base_uri": "https://localhost:8080/"
        },
        "outputId": "a61d7efb-a7e7-4eff-ad06-1a4e2739574a"
      },
      "source": [
        "var = int(input(\"Give me an integer: \"))\n",
        "print(type(var))\n",
        "print(var)"
      ],
      "execution_count": 73,
      "outputs": [
        {
          "output_type": "stream",
          "text": [
            "Give me an integer: 10\n",
            "<class 'int'>\n",
            "10\n"
          ],
          "name": "stdout"
        }
      ]
    },
    {
      "cell_type": "markdown",
      "metadata": {
        "id": "oa-8bUENgKCQ"
      },
      "source": [
        "Hàm `input` chỉ có thể đọc trong một dòng mà thôi. Tức là nếu gặp ký tự `'\\n'` thì hàm sẽ dừng và trả kết quả cho biến dạng chuỗi."
      ]
    },
    {
      "cell_type": "markdown",
      "metadata": {
        "id": "jowwWeyGgKCQ"
      },
      "source": [
        "### File I/O"
      ]
    },
    {
      "cell_type": "code",
      "metadata": {
        "collapsed": true,
        "id": "NMeyvqd8gKCR"
      },
      "source": [
        "with open(\"file_io.dat\", \"w\") as f:\n",
        "    f.write(\"Hello\")\n",
        "    f.write(\"!\\n\")\n",
        "    f.write(f\"This is PiMA {2021}\")"
      ],
      "execution_count": 74,
      "outputs": []
    },
    {
      "cell_type": "markdown",
      "metadata": {
        "id": "m3xS-LwrgKCT"
      },
      "source": [
        "Hàm `write` chỉ nhận tham số dạng chuỗi. Để viết các kiểu dữ liệu khác, xem lại phần format chuỗi."
      ]
    },
    {
      "cell_type": "code",
      "metadata": {
        "scrolled": true,
        "id": "lEp6mha2gKCU",
        "colab": {
          "base_uri": "https://localhost:8080/"
        },
        "outputId": "16718bd9-3b10-41b1-8279-18529dc7bde8"
      },
      "source": [
        "with open(\"file_io.dat\", \"r\") as f:\n",
        "    print(f.read())"
      ],
      "execution_count": 75,
      "outputs": [
        {
          "output_type": "stream",
          "text": [
            "Hello!\n",
            "This is PiMA 2021\n"
          ],
          "name": "stdout"
        }
      ]
    },
    {
      "cell_type": "code",
      "metadata": {
        "colab": {
          "base_uri": "https://localhost:8080/"
        },
        "id": "HJDtkgTv_TOB",
        "outputId": "fc03c0b9-ba0c-4be1-b901-ab344bb8953b"
      },
      "source": [
        "x = \"Name,NickName\\nThuc,Ca Noc\\nThe Anh,Nah\"\n",
        "print(x)\n",
        "open(\"file_csv.csv\", \"w\").write(x)"
      ],
      "execution_count": 76,
      "outputs": [
        {
          "output_type": "stream",
          "text": [
            "Name,NickName\n",
            "Thuc,Ca Noc\n",
            "The Anh,Nah\n"
          ],
          "name": "stdout"
        },
        {
          "output_type": "execute_result",
          "data": {
            "text/plain": [
              "37"
            ]
          },
          "metadata": {
            "tags": []
          },
          "execution_count": 76
        }
      ]
    },
    {
      "cell_type": "markdown",
      "metadata": {
        "id": "9tsgeNeO_w7-"
      },
      "source": [
        "Dưới đây là mẫu đọc một file csv với các hàm xử lý xâu"
      ]
    },
    {
      "cell_type": "code",
      "metadata": {
        "colab": {
          "base_uri": "https://localhost:8080/"
        },
        "id": "7nctddtf_126",
        "outputId": "d96a5525-2332-42b7-90eb-b7740a155a48"
      },
      "source": [
        "with open(\"file_csv.csv\", \"r\") as f:\n",
        "    lines = f.read().split('\\n') # Đọc toàn bộ file f và tách thành từng dòng\n",
        "    headers = lines[0].split(',') # Dòng đầu tiên là header của cột\n",
        "    print(headers)\n",
        "\n",
        "    for line in lines[1:]: # Dùng slide để duyệt qua các dòng còn lại\n",
        "        name, nickname = line.split(',') # Cắt chuỗi dựa vào dấu ,\n",
        "        print(f\"Name: {name}\\nNickname: {nickname}\")"
      ],
      "execution_count": 77,
      "outputs": [
        {
          "output_type": "stream",
          "text": [
            "['Name', 'NickName']\n",
            "Name: Thuc\n",
            "Nickname: Ca Noc\n",
            "Name: The Anh\n",
            "Nickname: Nah\n"
          ],
          "name": "stdout"
        }
      ]
    },
    {
      "cell_type": "markdown",
      "metadata": {
        "id": "PssuBWjn41dL"
      },
      "source": [
        "## Bài tập 1\n",
        "Bài tập này nhằm làm quen với viết hàm và thao tác với chuỗi"
      ]
    },
    {
      "cell_type": "markdown",
      "metadata": {
        "id": "qkVliKua8U1s"
      },
      "source": [
        " ### 1.1: Viết hàm trả về danh sách các phần tử ở vị trí lẻ của một dach sách"
      ]
    },
    {
      "cell_type": "code",
      "metadata": {
        "colab": {
          "base_uri": "https://localhost:8080/"
        },
        "id": "tqbtXbYm6oct",
        "outputId": "73864e42-7ab5-429e-ec4e-2d4bf4fbc9e5"
      },
      "source": [
        "def extract_odd_positions(x):\n",
        "    # Sửa code này\n",
        "    result = x\n",
        "    return result\n",
        "\n",
        "print(extract_odd_positions([1, 2, 3, 4])) # [2, 4]\n",
        "print(extract_odd_positions([\"a\", \"b\", \"c\", \"d\", \"e\"])) # [\"b\", \"d\"]"
      ],
      "execution_count": 78,
      "outputs": [
        {
          "output_type": "stream",
          "text": [
            "[1, 2, 3, 4]\n",
            "['a', 'b', 'c', 'd', 'e']\n"
          ],
          "name": "stdout"
        }
      ]
    },
    {
      "cell_type": "markdown",
      "metadata": {
        "id": "oIxfiKhVAi2e"
      },
      "source": [
        "### 1.2 Viết hàm viết hoa tên\n",
        "Cho một chuỗi có tên của một người (không có dấu cách). Hãy viết hoa ký tự đầu và viết thường các ký tự còn lại."
      ]
    },
    {
      "cell_type": "code",
      "metadata": {
        "colab": {
          "base_uri": "https://localhost:8080/"
        },
        "id": "cWMObvIiAwrD",
        "outputId": "0cf7f175-0fa0-4fe5-8a02-6f41b3a811ad"
      },
      "source": [
        "def uppercase_name(x):\n",
        "    # Sửa code này\n",
        "    result = x\n",
        "    return result\n",
        "\n",
        "print(uppercase_name(\"pima\")) # Pima\n",
        "print(uppercase_name(\"pIMA\")) # Pima"
      ],
      "execution_count": 79,
      "outputs": [
        {
          "output_type": "stream",
          "text": [
            "pima\n",
            "pIMA\n"
          ],
          "name": "stdout"
        }
      ]
    },
    {
      "cell_type": "markdown",
      "metadata": {
        "id": "zOPFKF1I8jhL"
      },
      "source": [
        "### 1.3 Viết hàm viết hoa tên đầy đủ\n",
        "Cho một chuỗi có tên của một người. Hãy viết hoa tên người đó theo đúng định dạng"
      ]
    },
    {
      "cell_type": "code",
      "metadata": {
        "colab": {
          "base_uri": "https://localhost:8080/"
        },
        "id": "rY7rpJ2h883N",
        "outputId": "6e331de4-53db-489e-8c3c-45f7f3408850"
      },
      "source": [
        "# Gợi ý: kết hợp hàm uppercase_name ở trên, hàm split và join\n",
        "def uppercase_fullname(x):\n",
        "    # Sửa code này\n",
        "    result = x\n",
        "    return result\n",
        "\n",
        "print(uppercase_fullname(\"nguyeN van a\")) # Nguyen Van A\n",
        "print(uppercase_fullname(\"projects in mathematics and aplications\"))"
      ],
      "execution_count": 80,
      "outputs": [
        {
          "output_type": "stream",
          "text": [
            "nguyeN van a\n",
            "projects in mathematics and aplications\n"
          ],
          "name": "stdout"
        }
      ]
    },
    {
      "cell_type": "markdown",
      "metadata": {
        "id": "7fs0gDmfgKBG"
      },
      "source": [
        "### 1.4:\n",
        "\n",
        "Cho hai vector $x = (x_1, x_2)$ và $y = (y_1, y_2)$\n",
        "\n",
        "1. Tìm tích vô hướng của x và y: $x \\cdot y = x_1 y_1 + x_2 y_2$\n",
        "2. Tìm độ dài của vector x\n",
        "3. Tìm cos giữa x và y: $x \\cdot y = ||x||\\ ||y||\\cos \\theta$\n",
        "\n",
        "Hình chiếu của x lên y, ký hiệu $\\vec{x}^{*} = \\text{proj}_{\\vec{y}}(\\vec{x})$. Biết:\n",
        "$$\\vec{x}^{*} = \\frac{\\vec{x} \\cdot \\vec{y}}{||y||^2}\\vec{y}$$\n",
        "\n",
        "4. Tìm hình chiếu của x lên y"
      ]
    },
    {
      "cell_type": "code",
      "metadata": {
        "id": "NlYwbV1kgKBH",
        "colab": {
          "base_uri": "https://localhost:8080/"
        },
        "outputId": "62f3c914-21eb-4fe2-db48-fabd19077ac7"
      },
      "source": [
        "import math\n",
        "# Hàm lấy căn bậc hai của x trong Python là: math.sqrt(x)\n",
        "# dot product\n",
        "def dot_product(x, y):\n",
        "    dot = None\n",
        "    return dot\n",
        "\n",
        "# length of a vector x\n",
        "def length(x):\n",
        "    l = None\n",
        "    return l\n",
        "\n",
        "# cos between two vectors\n",
        "def cos2v(x, y):\n",
        "    c = None\n",
        "    return c\n",
        "\n",
        "def proj(x, y):\n",
        "    proj = None\n",
        "    return proj\n",
        "    \n",
        "print(dot_product((1, 2), (3, 4))) # 11\n",
        "print(length((1, 2)))              # 2.2360679775\n",
        "print(cos2v((1, 2), (3, 4)))       # 0.9838699101\n",
        "print(proj((1, 2), (3, 4)))        # (1.32, 1.76)"
      ],
      "execution_count": 81,
      "outputs": [
        {
          "output_type": "stream",
          "text": [
            "None\n",
            "None\n",
            "None\n",
            "None\n"
          ],
          "name": "stdout"
        }
      ]
    },
    {
      "cell_type": "markdown",
      "metadata": {
        "id": "Fzn2pU9QgKB2"
      },
      "source": [
        "## Bài tập 2:\n",
        "\n",
        "2.1. Cho D là bảng phân phối xác suất. D là một dictionary như sau:\n",
        "\n",
        "`D = {giá trị: xác suất ứng với giá trị đó}`\n",
        "\n",
        "Tính xác suất kỳ vọng ứng với bảng phân phối xác suất.\n",
        "\n",
        "**Nhắc lại:**\n",
        "Cách để truy cập mọi từ khóa, giá trị ứng với từ khóa trong từ điển là:\n",
        "```python\n",
        "for key, value in x.items():\n",
        "    print(key, value)\n",
        "```\n",
        "\n",
        "**OPTIONAL**\n",
        "2.2. Cho hai ma trận A và B. \n",
        "\n",
        "    a) Kiểm tra nếu hai ma trận A và B cùng chiều\n",
        "    \n",
        "    b) Tính $A + B$, $A - B$\n",
        "\n",
        "    c) Kiểm tra nếu có thể nhân ma trận A và B với nhau\n",
        "    \n",
        "    d) Tính $A \\times B$"
      ]
    },
    {
      "cell_type": "code",
      "metadata": {
        "id": "hXV8k10jgKB3",
        "colab": {
          "base_uri": "https://localhost:8080/"
        },
        "outputId": "69c0bd56-d830-434b-880c-cd5d36f357fb"
      },
      "source": [
        "def expected_value(D):        \n",
        "    exp_value = 0\n",
        "    return exp_value\n",
        "\n",
        "D = {20: 0.2, 28: 0.2, 32: 0.4, 35: 0.2} # (ví dụ 3.10, tài liệu xác suất thống kê)\n",
        "print(expected_value(D)) # 29.4"
      ],
      "execution_count": 82,
      "outputs": [
        {
          "output_type": "stream",
          "text": [
            "0\n"
          ],
          "name": "stdout"
        }
      ]
    },
    {
      "cell_type": "code",
      "metadata": {
        "id": "2IWafnZpgKB4",
        "colab": {
          "base_uri": "https://localhost:8080/"
        },
        "outputId": "07bb6fa6-58b1-49b1-b89e-dd30faeeef85"
      },
      "source": [
        "# kiểm tra A có thể nhân được với B hay không\n",
        "def check_dim(A, B):\n",
        "    if_dim = False\n",
        "    return if_dim\n",
        "\n",
        "def add(A, B):\n",
        "    s = None\n",
        "    return s\n",
        "\n",
        "def sub(A, B):\n",
        "    s = None\n",
        "    return s\n",
        "\n",
        "print(check_dim([[1, 2, 3], [4, 5, 6]], [[2, 3, 7], [4, 5, -3]])) # True\n",
        "print(check_dim([[1, 2, 3], [4, 5, 6]], [[2], [4], [1]])) # True\n",
        "print(add([[1, 2, 3], [4, 5, 6]], [[2, 3, 7], [4, 5, -3]])) \n",
        "print(add([[1, 2, 3], [4, 5, 6]], [[2], [4], [1]])) \n",
        "print(sub([[1, 2, 3], [4, 5, 6]], [[2, 3, 7], [4, 5, -3]])) \n",
        "print(sub([[1, 2, 3], [4, 5, 6]], [[2], [4], [1]]))\n",
        "\n",
        "# kiểm tra A có thể nhân được với B hay không\n",
        "def check_prod(A, B):\n",
        "    if_prod = False\n",
        "    return if_prod\n",
        "\n",
        "def matrix_prod(A, B):\n",
        "    prod = None\n",
        "    return prod\n",
        "\n",
        "print(check_prod([[1, 2, 3], [4, 5, 6]], [[2, 3], [4, 5]])) # False\n",
        "print(check_prod([[1, 2, 3], [4, 5, 6]], [[2], [4], [1]])) # True\n",
        "print(matrix_prod([[1, 2, 3], [4, 5, 6]], [[2, 3], [4, 5]])) \n",
        "print(matrix_prod([[1, 2, 3], [4, 5, 6]], [[2], [4], [1]])) "
      ],
      "execution_count": 83,
      "outputs": [
        {
          "output_type": "stream",
          "text": [
            "False\n",
            "False\n",
            "None\n",
            "None\n",
            "None\n",
            "None\n",
            "False\n",
            "False\n",
            "None\n",
            "None\n"
          ],
          "name": "stdout"
        }
      ]
    },
    {
      "cell_type": "markdown",
      "metadata": {
        "id": "F5b8GPvmgKCH"
      },
      "source": [
        "## `*` Lớp (`class`)"
      ]
    },
    {
      "cell_type": "markdown",
      "metadata": {
        "id": "oZEDbf12gKCH"
      },
      "source": [
        "Class là chức năng quan trọng khiến Python trở thành ngôn ngữ lập trình hướng đối tượng. Mỗi biến trong Python dù lớn hay nhỏ (`int`) đều là một đối tượng (object). Trong một đối tượng chứa các thuộc tính (attribute) đóng vai trò như biến để cung cấp thêm thông tin về đối tượng đó, và các phương pháp (method) đóng vai trò như hàm để thực thi một loạt các lệnh xử lý.\n",
        "\n",
        "Ví dụ khi mô hình hóa xe cứu thương vào lập trình, có thể biến nó thành một object với kiểu dữ liệu tên `Ambulance` được định nghĩa qua lớp cùng tên. Xe cứu thương có thể bao gồm các thông số như biển số xe (`string`) và vị trí hiện tại của xe (dựa theo mã tỉnh, `int`). Thao tác có thể đặt bên trong đối tượng này là \"di chuyển đến\" để hỗ trợ một xe cứu thương khác."
      ]
    },
    {
      "cell_type": "code",
      "metadata": {
        "collapsed": true,
        "id": "qINVwCV8gKCH"
      },
      "source": [
        "class Ambulance:\n",
        "    def __init__(self, plate, city):\n",
        "        self.plate = plate\n",
        "        self.city = city\n",
        "    def assist(self, another_ambulance):\n",
        "        self.city = another_ambulance.city\n",
        "    def __str__(self):\n",
        "        return \"Ambulance {0} is in city {1}\"\\\n",
        "                .format(self.plate, self.city)"
      ],
      "execution_count": 84,
      "outputs": []
    },
    {
      "cell_type": "markdown",
      "metadata": {
        "id": "BRpWp9HygKCJ"
      },
      "source": [
        "Lưu ý rằng trong mỗi `class` thường có hàm `__init__` để khởi tạo một đối tượng. Trong ví dụ trên, hàm này có nhận tham số `plate` và gán vào `self.plate`. Có thể hình dung rằng `self.plate` là một biến `plate` là một thuộc tính (hay biến) thuộc lớp Ambulance, còn tham số `plate` được truyền vào hàm `__init__` là một biến độc lập chỉ có giá trị trong hàm này chứ không thuộc lớp `Ambulance`. Hàm `__str__` dùng để hướng dẫn cho câu lệnh `print` nên in ra thông tin gì khi người ta cố gắng in đối tượng này ra màn hình.\n",
        "\n",
        "Mọi hàm trong class đều phải có tham số `self`. Khi gọi hàm thuộc class không truyền giá trị vào tham số này."
      ]
    },
    {
      "cell_type": "code",
      "metadata": {
        "scrolled": true,
        "id": "HimztA-hgKCJ",
        "colab": {
          "base_uri": "https://localhost:8080/"
        },
        "outputId": "50b9df21-8858-468a-e9c5-bfd85f901e40"
      },
      "source": [
        "amb1 = Ambulance(\"65-B1-2019\", 32)\n",
        "amb2 = Ambulance(\"50-B2-11124\", 14)\n",
        "print(amb1)\n",
        "print(amb2)\n",
        "amb2.assist(amb1)\n",
        "print(amb2)"
      ],
      "execution_count": 85,
      "outputs": [
        {
          "output_type": "stream",
          "text": [
            "Ambulance 65-B1-2019 is in city 32\n",
            "Ambulance 50-B2-11124 is in city 14\n",
            "Ambulance 50-B2-11124 is in city 32\n"
          ],
          "name": "stdout"
        }
      ]
    },
    {
      "cell_type": "markdown",
      "metadata": {
        "id": "2jkFrfJQA06K"
      },
      "source": [
        "# Tài liệu tham khảo:\n",
        "https://www.w3schools.com/python/default.asp"
      ]
    }
  ]
}